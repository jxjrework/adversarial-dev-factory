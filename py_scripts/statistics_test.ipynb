{
 "cells": [
  {
   "cell_type": "markdown",
   "metadata": {},
   "source": [
    "### Statistics of CAAD testing data"
   ]
  },
  {
   "cell_type": "code",
   "execution_count": 1,
   "metadata": {},
   "outputs": [],
   "source": [
    "import pandas as pd\n",
    "import numpy as np\n",
    "import matplotlib\n",
    "from matplotlib import pyplot as plt\n",
    "matplotlib.rcParams.update({'font.size': 18})"
   ]
  },
  {
   "cell_type": "code",
   "execution_count": 4,
   "metadata": {},
   "outputs": [],
   "source": [
    "csv_path = '../dataset/dev_dataset.csv'"
   ]
  },
  {
   "cell_type": "code",
   "execution_count": 5,
   "metadata": {},
   "outputs": [],
   "source": [
    "data = pd.read_csv(csv_path)"
   ]
  },
  {
   "cell_type": "code",
   "execution_count": 6,
   "metadata": {},
   "outputs": [
    {
     "name": "stdout",
     "output_type": "stream",
     "text": [
      "Index([u'ImageId', u'URL', u'x1', u'y1', u'x2', u'y2', u'TrueLabel',\n",
      "       u'TargetClass', u'OriginalLandingURL', u'License', u'Author',\n",
      "       u'AuthorProfileURL'],\n",
      "      dtype='object')\n"
     ]
    }
   ],
   "source": [
    "print(data.columns)"
   ]
  },
  {
   "cell_type": "code",
   "execution_count": 7,
   "metadata": {},
   "outputs": [],
   "source": [
    "df = data.drop(['URL', 'x1', 'y1', 'x2', 'y2', 'OriginalLandingURL', 'License', 'Author', 'AuthorProfileURL'], axis=1)"
   ]
  },
  {
   "cell_type": "code",
   "execution_count": 8,
   "metadata": {},
   "outputs": [
    {
     "data": {
      "text/html": [
       "<div>\n",
       "<style scoped>\n",
       "    .dataframe tbody tr th:only-of-type {\n",
       "        vertical-align: middle;\n",
       "    }\n",
       "\n",
       "    .dataframe tbody tr th {\n",
       "        vertical-align: top;\n",
       "    }\n",
       "\n",
       "    .dataframe thead th {\n",
       "        text-align: right;\n",
       "    }\n",
       "</style>\n",
       "<table border=\"1\" class=\"dataframe\">\n",
       "  <thead>\n",
       "    <tr style=\"text-align: right;\">\n",
       "      <th></th>\n",
       "      <th>TrueLabel</th>\n",
       "      <th>TargetClass</th>\n",
       "    </tr>\n",
       "  </thead>\n",
       "  <tbody>\n",
       "    <tr>\n",
       "      <th>count</th>\n",
       "      <td>1000.000000</td>\n",
       "      <td>1000.000000</td>\n",
       "    </tr>\n",
       "    <tr>\n",
       "      <th>mean</th>\n",
       "      <td>639.415000</td>\n",
       "      <td>551.425000</td>\n",
       "    </tr>\n",
       "    <tr>\n",
       "      <th>std</th>\n",
       "      <td>264.399296</td>\n",
       "      <td>268.979096</td>\n",
       "    </tr>\n",
       "    <tr>\n",
       "      <th>min</th>\n",
       "      <td>2.000000</td>\n",
       "      <td>1.000000</td>\n",
       "    </tr>\n",
       "    <tr>\n",
       "      <th>25%</th>\n",
       "      <td>441.750000</td>\n",
       "      <td>352.750000</td>\n",
       "    </tr>\n",
       "    <tr>\n",
       "      <th>50%</th>\n",
       "      <td>672.500000</td>\n",
       "      <td>572.500000</td>\n",
       "    </tr>\n",
       "    <tr>\n",
       "      <th>75%</th>\n",
       "      <td>874.250000</td>\n",
       "      <td>781.250000</td>\n",
       "    </tr>\n",
       "    <tr>\n",
       "      <th>max</th>\n",
       "      <td>998.000000</td>\n",
       "      <td>1000.000000</td>\n",
       "    </tr>\n",
       "  </tbody>\n",
       "</table>\n",
       "</div>"
      ],
      "text/plain": [
       "         TrueLabel  TargetClass\n",
       "count  1000.000000  1000.000000\n",
       "mean    639.415000   551.425000\n",
       "std     264.399296   268.979096\n",
       "min       2.000000     1.000000\n",
       "25%     441.750000   352.750000\n",
       "50%     672.500000   572.500000\n",
       "75%     874.250000   781.250000\n",
       "max     998.000000  1000.000000"
      ]
     },
     "execution_count": 8,
     "metadata": {},
     "output_type": "execute_result"
    }
   ],
   "source": [
    "df.describe()"
   ]
  },
  {
   "cell_type": "code",
   "execution_count": 13,
   "metadata": {},
   "outputs": [
    {
     "data": {
      "image/png": "[encoded data removed]",
      "text/plain": [
       "<Figure size 432x288 with 2 Axes>"
      ]
     },
     "metadata": {},
     "output_type": "display_data"
    }
   ],
   "source": [
    "hist = df.hist(['TrueLabel', 'TargetClass'], bins = 25)"
   ]
  },
  {
   "cell_type": "code",
   "execution_count": null,
   "metadata": {},
   "outputs": [],
   "source": [
    "df.plot(x = 'TrueLabel', y = 'TargetClass')"
   ]
  },
  {
   "cell_type": "code",
   "execution_count": null,
   "metadata": {},
   "outputs": [],
   "source": [
    "df.boxplot(column = ['TrueLabel', 'TargetClass'], figsize=(12, 8))"
   ]
  },
  {
   "cell_type": "code",
   "execution_count": null,
   "metadata": {},
   "outputs": [],
   "source": [
    "fig = plt.figure(figsize=(40,30))\n",
    "df.plot.scatter(x = 'TrueLabel', y = 'TargetClass', c = 'blue', figsize=(12, 10))\n",
    "plt.xticks(np.arange(0, 1000, 100))"
   ]
  },
  {
   "cell_type": "code",
   "execution_count": null,
   "metadata": {},
   "outputs": [],
   "source": [
    "import scipy.io\n",
    "import numpy as np\n",
    "from matplotlib import use\n",
    "use('TkAgg')\n",
    "from displayData import displayData\n",
    "\n",
    "def display100(file):\n",
    "    \"\"\"Randomly pick 100 images from a file and displays them in a nice grid.\"\"\"\n",
    "    # Load Training Data\n",
    "    print('Loading and Visualizing Data ...')\n",
    "    data = scipy.io.loadmat(file)\n",
    "    # training data stored in arrays X, y\n",
    "    X = data['X']\n",
    "    y = data['y']\n",
    "    np.savetxt(\"y.csv\", y)\n",
    "    m, _ = X.shape\n",
    "    print(y.shape)\n",
    "    np.savetxt(\"newy.csv\", y)\n",
    "\n",
    "    # Randomly select 100 data points to display\n",
    "    rand_indices = np.random.permutation(range(m))\n",
    "    sel = X[rand_indices[0:100], :]\n",
    "    displayData(sel)\n"
   ]
  },
  {
   "cell_type": "markdown",
   "metadata": {},
   "source": [
    "### plot randomly picked 100 images in nice 10x10 grids"
   ]
  },
  {
   "cell_type": "markdown",
   "metadata": {},
   "source": [
    "## import glob\n",
    "import cv2\n",
    "import random\n",
    "from displayData import displayData\n",
    "import numpy as np"
   ]
  },
  {
   "cell_type": "code",
   "execution_count": null,
   "metadata": {},
   "outputs": [],
   "source": [
    "cv_img = []\n",
    "image_size = 150\n",
    "for img in glob.glob(\"../tmp2/dataset/*.png\"):\n",
    "    n= cv2.imread(img)\n",
    "    n = cv2.resize(n, (image_size, image_size)).flatten()\n",
    "    print(n.shape)\n",
    "    cv_img.append(n)"
   ]
  },
  {
   "cell_type": "code",
   "execution_count": null,
   "metadata": {},
   "outputs": [],
   "source": [
    "print(len(cv_img))"
   ]
  },
  {
   "cell_type": "code",
   "execution_count": null,
   "metadata": {},
   "outputs": [],
   "source": [
    "length = 3 * image_size * image_size\n",
    "np_img = np.zeros((1000, 67500))"
   ]
  },
  {
   "cell_type": "code",
   "execution_count": null,
   "metadata": {},
   "outputs": [],
   "source": [
    "print(np_img.shape)"
   ]
  },
  {
   "cell_type": "code",
   "execution_count": null,
   "metadata": {},
   "outputs": [],
   "source": [
    "for i in range(1000):\n",
    "    np_img[i] = cv_img[i]"
   ]
  },
  {
   "cell_type": "code",
   "execution_count": null,
   "metadata": {},
   "outputs": [],
   "source": [
    "m, _ = np_img.shape\n",
    "rand_indices = np.random.permutation(range(m))\n",
    "sel = np_img[rand_indices[0:1000], :]\n",
    "displayData(sel)"
   ]
  },
  {
   "cell_type": "code",
   "execution_count": null,
   "metadata": {},
   "outputs": [],
   "source": []
  }
 ],
 "metadata": {
  "kernelspec": {
   "display_name": "Python 3",
   "language": "python",
   "name": "python3"
  },
  "language_info": {
   "codemirror_mode": {
    "name": "ipython",
    "version": 2
   },
   "file_extension": ".py",
   "mimetype": "text/x-python",
   "name": "python",
   "nbconvert_exporter": "python",
   "pygments_lexer": "ipython2",
   "version": "2.7.15"
  }
 },
 "nbformat": 4,
 "nbformat_minor": 2
}
